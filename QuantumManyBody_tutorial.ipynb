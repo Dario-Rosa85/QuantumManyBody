{
 "cells": [
  {
   "cell_type": "code",
   "execution_count": null,
   "metadata": {},
   "outputs": [],
   "source": [
    "Quit[]"
   ]
  },
  {
   "cell_type": "markdown",
   "metadata": {},
   "source": [
    "# A tutorial to use QuantumManyBody package\n",
    "\n",
    "This notebook has to be considered as a tutorial, which will explain how to use the QuantumManyBody package to perform numerical computations. The package can be useful to simulate quantum mechanical systems in $1$ dimension; such as spin chain models (having, say, $L$, spin sites) and the so-called SYK model, which is a strongly interacting model of $N$ Majorana fermions, which will be included and discussed in a dedicated section.\n",
    "\n",
    "First of all, let us load the package:"
   ]
  },
  {
   "cell_type": "code",
   "execution_count": 1,
   "metadata": {},
   "outputs": [],
   "source": [
    "Needs[\"QuantumManyBody`\"] "
   ]
  },
  {
   "cell_type": "markdown",
   "metadata": {},
   "source": [
    "and we will focus first on showing functionalities which can be used to generate spin chain Hamiltonians (although, the vast majority of the functions can be used for Majorana Hamiltonians too). For simplicity, we will consider chains having $10$ sites, which are then associated to Hilbert spaces of dimension $2^10$"
   ]
  },
  {
   "cell_type": "code",
   "execution_count": 2,
   "metadata": {},
   "outputs": [],
   "source": [
    "latticeSize = 10;\n",
    "length = 2^latticeSize;"
   ]
  },
  {
   "cell_type": "markdown",
   "metadata": {},
   "source": [
    "## Creating spin chain Hamiltonians using `SpinChainHamiltonian` and `SpinOperators`\n",
    "\n",
    "The first function we want to address is the function `SpinChainHamiltonian[listCouplings , listCoefficients]`. Most of the Hamiltonians used in condensed matter are built out of lattices (defined on graphs) in which the spin variables (that here we call $\\sigma_i^a$, with $i$ being the site on the graph and $a = x, y, z$ being the orientation of the spin along the $3$ axes) interact through scalar products when they are connected by an edge of the underlying graph.\n",
    "\n",
    "We will see through some examples, which kind of Hamiltonians can be generated and how.\n",
    "\n",
    "### The Heisenberg model example\n",
    "\n",
    "To start with, we will consider probably the simplest yet non-trivial example of Hamiltonian: the Heisenberg chain with periodic boundary conditions. In this model, the spins variables are placed on a necklace like graph;  only the nearest neighbors sites interact among each other, with a constant coupling. In formulas, the Hamiltonian reads\n",
    "\n",
    "$$\n",
    "H_\\mathrm{Heis} = \\sum_{(i , j)} \\sum_{a = 1}^3 \\, \\sigma_i^a \\cdot \\sigma_j^a \\ ,\n",
    "$$\n",
    "\n",
    "where the notation $(i, j)$ denotes the nearest neighbors pairs.\n",
    "\n",
    "To build this hamiltonian, we first create a list, which contains all the nearest neighbors pairs"
   ]
  },
  {
   "cell_type": "code",
   "execution_count": 4,
   "metadata": {},
   "outputs": [
    {
     "data": {
      "text/html": [
       "<div><pre style=\"&#102;&#111;&#110;&#116;&#45;&#102;&#97;&#109;&#105;&#108;&#121;&#58;&#32;&#34;&#67;&#111;&#117;&#114;&#105;&#101;&#114;&#32;&#78;&#101;&#119;&#34;&#44;&#67;&#111;&#117;&#114;&#105;&#101;&#114;&#44;&#109;&#111;&#110;&#111;&#115;&#112;&#97;&#99;&#101;&#59;\">&#123;&#123;&#49;&#44;&#32;&#50;&#125;&#44;&#32;&#123;&#50;&#44;&#32;&#51;&#125;&#44;&#32;&#123;&#51;&#44;&#32;&#52;&#125;&#44;&#32;&#123;&#52;&#44;&#32;&#53;&#125;&#44;&#32;&#123;&#53;&#44;&#32;&#54;&#125;&#44;&#32;&#123;&#54;&#44;&#32;&#55;&#125;&#44;&#32;&#123;&#55;&#44;&#32;&#56;&#125;&#44;&#32;&#123;&#56;&#44;&#32;&#57;&#125;&#44;&#32;&#123;&#57;&#44;&#32;&#49;&#48;&#125;&#44;&#32;&#123;&#49;&#48;&#44;&#32;&#49;&#125;&#125;</pre></div>"
      ],
      "text/plain": [
       "{{1, 2}, {2, 3}, {3, 4}, {4, 5}, {5, 6}, {6, 7}, {7, 8}, {8, 9}, {9, 10}, {10, 1}}"
      ]
     },
     "execution_count": 4,
     "metadata": {
      "text/html": [],
      "text/plain": []
     },
     "output_type": "execute_result"
    }
   ],
   "source": [
    "listCouplings = Partition[Range @ latticeSize , 2 , 1 , 1]"
   ]
  },
  {
   "cell_type": "markdown",
   "metadata": {},
   "source": [
    "Notice that we are assuming periodic boundary conditions, given the presence of the coupling $\\left\\{10 , 1\\right\\}$. We can similarly consider the case with open boundary conditions"
   ]
  },
  {
   "cell_type": "code",
   "execution_count": 5,
   "metadata": {},
   "outputs": [
    {
     "data": {
      "text/html": [
       "<div><pre style=\"&#102;&#111;&#110;&#116;&#45;&#102;&#97;&#109;&#105;&#108;&#121;&#58;&#32;&#34;&#67;&#111;&#117;&#114;&#105;&#101;&#114;&#32;&#78;&#101;&#119;&#34;&#44;&#67;&#111;&#117;&#114;&#105;&#101;&#114;&#44;&#109;&#111;&#110;&#111;&#115;&#112;&#97;&#99;&#101;&#59;\">&#123;&#123;&#49;&#44;&#32;&#50;&#125;&#44;&#32;&#123;&#50;&#44;&#32;&#51;&#125;&#44;&#32;&#123;&#51;&#44;&#32;&#52;&#125;&#44;&#32;&#123;&#52;&#44;&#32;&#53;&#125;&#44;&#32;&#123;&#53;&#44;&#32;&#54;&#125;&#44;&#32;&#123;&#54;&#44;&#32;&#55;&#125;&#44;&#32;&#123;&#55;&#44;&#32;&#56;&#125;&#44;&#32;&#123;&#56;&#44;&#32;&#57;&#125;&#44;&#32;&#123;&#57;&#44;&#32;&#49;&#48;&#125;&#125;</pre></div>"
      ],
      "text/plain": [
       "{{1, 2}, {2, 3}, {3, 4}, {4, 5}, {5, 6}, {6, 7}, {7, 8}, {8, 9}, {9, 10}}"
      ]
     },
     "execution_count": 5,
     "metadata": {
      "text/html": [],
      "text/plain": []
     },
     "output_type": "execute_result"
    }
   ],
   "source": [
    "listCouplingsOpen = Partition[Range @ latticeSize , 2 , 1]"
   ]
  },
  {
   "cell_type": "markdown",
   "metadata": {},
   "source": [
    "In which we see that the last coupling $\\left\\{10 , 1\\right\\}$, which was \"closing\" the necklace, is now removed. From the formula for the Hamiltonian $H_\\mathrm{Heis}$, we see that, for each non trivial coupling $(i, j)$ the three spin operators are coupled  isotropically with strength one. From this we learn that the list of the coefficients, `listCoefficients`, is simply given by "
   ]
  },
  {
   "cell_type": "code",
   "execution_count": 7,
   "metadata": {},
   "outputs": [],
   "source": [
    "listCoefficients = ({1 , 1 , 1} &) /@ Range @ Length @ listCouplings;"
   ]
  },
  {
   "cell_type": "markdown",
   "metadata": {},
   "source": [
    "Given these two ingredients, we are ready to build our Hamiltonian, using `SpinChainHamiltonian`"
   ]
  },
  {
   "cell_type": "code",
   "execution_count": 8,
   "metadata": {},
   "outputs": [],
   "source": [
    "{hamiltonianHeisenbergDecomposed , hamiltonianHeisenberg} = \n",
    " SpinChainHamiltonian[listCouplings , listCoefficients];"
   ]
  },
  {
   "cell_type": "markdown",
   "metadata": {},
   "source": [
    "As we see, the output is given by two lists: the first list, here called `hamiltonianHeisenbergDecomposed`, contains all the single terms $\\sigma_i^a \\cdot \\sigma_j^a$, organized as a nested list, in which, for each non-vanishing choice of the site indices $i$ and $j$, the three individual terms with $a = x, y, z$ are separately considered. This list is relevant because each element has the property of being proportional to a unitary operator (in this particular example they are effectively unitary). Hence, `hamiltonianHeisenbergDecomposed` can be useful when we deal with algorithms which make use of a Trotterization of the Hamiltonian (we will see an example  in a later section).\n",
    "The second list, here called `hamiltonianHeisenberg` denotes instead the full Heisenberg Hamiltonian, $H_\\mathrm{Heis}$.\n",
    "\n",
    "All the resulting matrices are given as `SparseArray`. This is convenient, since the Heisenberg Hamiltonian, as well as most of the Hamiltonians used in condensed matter physics, are very sparse: we can get convinced by this last point using a `MatrixPlot`"
   ]
  },
  {
   "cell_type": "code",
   "execution_count": 9,
   "metadata": {},
   "outputs": [
    {
     "data": {
      "text/html": [
       "<div><img alt=\"Output\" src=\"data:image/png;base64,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\"></div>"
      ],
      "text/plain": [
       "-Graphics-"
      ]
     },
     "execution_count": 9,
     "metadata": {
      "text/html": [],
      "text/plain": []
     },
     "output_type": "execute_result"
    }
   ],
   "source": [
    "hamiltonianHeisenberg // MatrixPlot"
   ]
  },
  {
   "cell_type": "markdown",
   "metadata": {},
   "source": [
    "### A more interesting example\n",
    "\n",
    "Let us now turn to a more interesting example: we will consider an Hamiltonian having both single site terms as well as nearest neighbors and next-to-nearest neighbors couplings. It reads (we are assuming here open boundary conditions)\n",
    "$$\n",
    "H = h \\, \\sum_{i = 1}^L \\sigma_i^x - \\sum_{i = 1}^{L - 1}J_i \\sigma_i^z \\cdot \\sigma_{i + 1}^z + J_2 \\sum_{i = 1}^{L - 2} \\sigma_i^z \\cdot \\sigma_{i + 2}^z \\equiv H_0 + H_1 + H_2 \\ ,\n",
    "$$\n",
    "\n",
    "where the constant $h$ is set to $h = 0.6$,  $J_2$ is set to $J_2 = 0.3$ and the random variables $J_i$ are taken to be $J_i = 1 + \\delta J_i$ with the variables $\\delta J_i$ extracted randomly from a uniform distribution with support $[-1 , 1]$. \n",
    "\n",
    "Let us start by constructing the three terms separately, starting from the easiest, $H_0$:"
   ]
  },
  {
   "cell_type": "code",
   "execution_count": 12,
   "metadata": {},
   "outputs": [],
   "source": [
    "h = 0.6;\n",
    "couplingsH0 = {Partition[Range @ latticeSize , 1] , ({h , 0 , 0} &) /@ \n",
    "   Range @ latticeSize};"
   ]
  },
  {
   "cell_type": "markdown",
   "metadata": {},
   "source": [
    "Let us now move to $H_1$"
   ]
  },
  {
   "cell_type": "code",
   "execution_count": 14,
   "metadata": {},
   "outputs": [],
   "source": [
    "couplingsH1 = {Partition[Range @ latticeSize , 2 , \n",
    "   1] , ({0 , 0 , - (1 + RandomReal[{-1 , 1}])} &) /@ \n",
    "   Range @ Length @ Partition[Range @ latticeSize , 2 , 1]};"
   ]
  },
  {
   "cell_type": "markdown",
   "metadata": {},
   "source": [
    "and finally we move to $H_2$"
   ]
  },
  {
   "cell_type": "code",
   "execution_count": 15,
   "metadata": {},
   "outputs": [],
   "source": [
    "j2 = 0.3; \n",
    "couplingsH2 = {({# , # + 2} &) /@ \n",
    "   Range[latticeSize - 2] , ({0 , 0 , j2} &) /@ \n",
    "   Range @ Length @ Range[latticeSize - 2]};"
   ]
  },
  {
   "cell_type": "markdown",
   "metadata": {},
   "source": [
    "Now that we have all the terms, we can simply join them"
   ]
  },
  {
   "cell_type": "code",
   "execution_count": 17,
   "metadata": {},
   "outputs": [],
   "source": [
    "couplingsFullH = \n",
    " Join @@@ Transpose @ {couplingsH0 , couplingsH1 , couplingsH2};"
   ]
  },
  {
   "cell_type": "markdown",
   "metadata": {},
   "source": [
    "and get the final Hamiltonian (as well as its decomposition in terms of unitaries)"
   ]
  },
  {
   "cell_type": "code",
   "execution_count": 18,
   "metadata": {},
   "outputs": [],
   "source": [
    "{hamiltonianDecomposed , hamiltonianFull} = \n",
    " SpinChainHamiltonian @@ couplingsFullH;"
   ]
  },
  {
   "cell_type": "markdown",
   "metadata": {},
   "source": [
    "Let us check that all the decomposed terms are proportional to unitary matrices: as a first step let us check if the product of the elements with their conjugate transpose give diagonal matrices"
   ]
  },
  {
   "cell_type": "code",
   "execution_count": 19,
   "metadata": {},
   "outputs": [
    {
     "data": {
      "text/html": [
       "<div><img alt=\"Output\" src=\"data:image/png;base64,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\"></div>"
      ],
      "text/plain": [
       "{{True}, {True}, {True}, {True}, {True}, {True}, {True}, {True}, {True}, {True}, {True}, \n",
       " \n",
       ">   {True}, {True}, {True}, {True}, {True}, {True}, {True}, {True}, {True}, {True}, \n",
       " \n",
       ">   {True}, {True}, {True}, {True}, {True}, {True}}"
      ]
     },
     "execution_count": 19,
     "metadata": {
      "text/html": [],
      "text/plain": []
     },
     "output_type": "execute_result"
    }
   ],
   "source": [
    "Map[(DiagonalMatrixQ[\n",
    "    ConjugateTranspose @ # . #]  &), hamiltonianDecomposed , {2}]"
   ]
  },
  {
   "cell_type": "markdown",
   "metadata": {},
   "source": [
    "the answer is positive, so it just remains to check that the diagonal elements are all equals to each other. To do this, we tally all the elements of the diagonals and check if the resulting list has length equal to one"
   ]
  },
  {
   "cell_type": "code",
   "execution_count": 20,
   "metadata": {},
   "outputs": [
    {
     "data": {
      "text/html": [
       "<div><pre style=\"&#102;&#111;&#110;&#116;&#45;&#102;&#97;&#109;&#105;&#108;&#121;&#58;&#32;&#34;&#67;&#111;&#117;&#114;&#105;&#101;&#114;&#32;&#78;&#101;&#119;&#34;&#44;&#67;&#111;&#117;&#114;&#105;&#101;&#114;&#44;&#109;&#111;&#110;&#111;&#115;&#112;&#97;&#99;&#101;&#59;\">&#123;&#123;&#49;&#125;&#44;&#32;&#123;&#49;&#125;&#44;&#32;&#123;&#49;&#125;&#44;&#32;&#123;&#49;&#125;&#44;&#32;&#123;&#49;&#125;&#44;&#32;&#123;&#49;&#125;&#44;&#32;&#123;&#49;&#125;&#44;&#32;&#123;&#49;&#125;&#44;&#32;&#123;&#49;&#125;&#44;&#32;&#123;&#49;&#125;&#44;&#32;&#123;&#49;&#125;&#44;&#32;&#123;&#49;&#125;&#44;&#32;&#123;&#49;&#125;&#44;&#32;&#123;&#49;&#125;&#44;&#32;&#123;&#49;&#125;&#44;&#32;&#123;&#49;&#125;&#44;&#32;&#123;&#49;&#125;&#44;&#32;&#10;&#32;&#10;&#62;&#32;&#32;&#32;&#123;&#49;&#125;&#44;&#32;&#123;&#49;&#125;&#44;&#32;&#123;&#49;&#125;&#44;&#32;&#123;&#49;&#125;&#44;&#32;&#123;&#49;&#125;&#44;&#32;&#123;&#49;&#125;&#44;&#32;&#123;&#49;&#125;&#44;&#32;&#123;&#49;&#125;&#44;&#32;&#123;&#49;&#125;&#44;&#32;&#123;&#49;&#125;&#125;</pre></div>"
      ],
      "text/plain": [
       "{{1}, {1}, {1}, {1}, {1}, {1}, {1}, {1}, {1}, {1}, {1}, {1}, {1}, {1}, {1}, {1}, {1}, \n",
       " \n",
       ">   {1}, {1}, {1}, {1}, {1}, {1}, {1}, {1}, {1}, {1}}"
      ]
     },
     "execution_count": 20,
     "metadata": {
      "text/html": [],
      "text/plain": []
     },
     "output_type": "execute_result"
    }
   ],
   "source": [
    "Map[(Length @ \n",
    "    Tally @ Diagonal[\n",
    "      ConjugateTranspose @ # . #]  &), hamiltonianDecomposed , {2}]"
   ]
  },
  {
   "cell_type": "markdown",
   "metadata": {},
   "source": [
    "We can also visualize the level of sparsity of the full hamiltonian"
   ]
  },
  {
   "cell_type": "code",
   "execution_count": 21,
   "metadata": {},
   "outputs": [
    {
     "data": {
      "text/html": [
       "<div><img alt=\"Output\" src=\"data:image/png;base64,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\"></div>"
      ],
      "text/plain": [
       "-Graphics-"
      ]
     },
     "execution_count": 21,
     "metadata": {
      "text/html": [],
      "text/plain": []
     },
     "output_type": "execute_result"
    }
   ],
   "source": [
    "hamiltonianFull // MatrixPlot"
   ]
  },
  {
   "cell_type": "markdown",
   "metadata": {},
   "source": [
    "### More exotic Hamiltonians: `SpinOperators` function\n",
    "\n",
    "Whenever one needs to build a more general Hamiltonian, which cannot be built using the function SpinChainHamiltonian or, more generally, if one needs to build explicitly the spin operators, $\\sigma_i^a$, the function `SpinOperators[L]` gives the spin operators defined on a spin chain of length `L`. So, for example"
   ]
  },
  {
   "cell_type": "code",
   "execution_count": 22,
   "metadata": {},
   "outputs": [],
   "source": [
    "sS = SpinOperators[latticeSize];"
   ]
  },
  {
   "cell_type": "markdown",
   "metadata": {},
   "source": [
    "We see that the spin operators are formatted as a list of lists. Each of the sublists contains the three spin operators defined at a given position in the chain."
   ]
  },
  {
   "cell_type": "markdown",
   "metadata": {},
   "source": [
    "## Studying a given Hamiltonian: `FindGroundState`, `EnergyStored` and `FindBandwidth`\n",
    "\n",
    "Once we have the Hamiltonian, we can now start to study its properties. The first two functions we are going to explore are very simple. As the name suggests, the function `FindGroundState[hamiltonian]` simply computes the ground state (i.e. the state with the lowest energy) associated to a given Hamiltonian.  As an example, let us consider the non-trivial spin-chain Hamiltonian we introduced in the last example and that we recall quickly here\n",
    "\n",
    "$$\n",
    "H = h \\, \\sum_{i = 1}^L \\sigma_i^x - \\sum_{i = 1}^{L - 1}J_i \\sigma_i^z \\cdot \\sigma_{i + 1}^z + J_2 \\sum_{i = 1}^{L - 2} \\sigma_i^z \\cdot \\sigma_{i + 2}^z \\equiv H_0 + H_1 + H_2 \\ ,\n",
    "$$"
   ]
  },
  {
   "cell_type": "code",
   "execution_count": 23,
   "metadata": {},
   "outputs": [],
   "source": [
    "h = 0.6;\n",
    "j2 = 0.3; \n",
    "hamiltonian = \n",
    "  SpinChainHamiltonian @@ \n",
    "    Join @@@ Transpose @ {{Partition[Range @ latticeSize , \n",
    "         1] , ({h , 0 , 0} &) /@ Range @ latticeSize} , {Partition[\n",
    "         Range @ latticeSize , 2 , \n",
    "         1] , ({0 , 0 , - (1 + RandomReal[{-1 , 1}])} &) /@ \n",
    "         Range @ Length @ \n",
    "           Partition[Range @ latticeSize , 2 , \n",
    "            1]} , {({# , # + 2} &) /@ \n",
    "         Range[latticeSize - 2] , ({0 , 0 , j2} &) /@ \n",
    "         Range @ Length @ Range[latticeSize - 2]}} // Last;"
   ]
  },
  {
   "cell_type": "markdown",
   "metadata": {},
   "source": [
    "The ground state is then given by"
   ]
  },
  {
   "cell_type": "code",
   "execution_count": 26,
   "metadata": {},
   "outputs": [],
   "source": [
    "groundState = FindGroundState @ hamiltonian;"
   ]
  },
  {
   "cell_type": "markdown",
   "metadata": {},
   "source": [
    "and, by making use of the function `EnergyStored[groundState , hamiltonian]` we can compute the associated ground state energy"
   ]
  },
  {
   "cell_type": "code",
   "execution_count": 27,
   "metadata": {},
   "outputs": [
    {
     "data": {
      "text/html": [
       "<div><pre style=\"&#102;&#111;&#110;&#116;&#45;&#102;&#97;&#109;&#105;&#108;&#121;&#58;&#32;&#34;&#67;&#111;&#117;&#114;&#105;&#101;&#114;&#32;&#78;&#101;&#119;&#34;&#44;&#67;&#111;&#117;&#114;&#105;&#101;&#114;&#44;&#109;&#111;&#110;&#111;&#115;&#112;&#97;&#99;&#101;&#59;\">&#45;&#57;&#46;&#49;&#49;&#49;&#52;&#52;</pre></div>"
      ],
      "text/plain": [
       "-9.11144"
      ]
     },
     "execution_count": 27,
     "metadata": {
      "text/html": [],
      "text/plain": []
     },
     "output_type": "execute_result"
    }
   ],
   "source": [
    "groundEnergy = EnergyStored[groundState , hamiltonian]"
   ]
  },
  {
   "cell_type": "markdown",
   "metadata": {},
   "source": [
    "Notice that, more generally, the function `EnergyStored[state , observable]` computes the mean value (in the quantum mechanical sense) of the operator `observable` in the quantum state `state`, i.e. it does not assume that `state` is an eigenstate of `observable`.\n",
    "\n",
    "Finally, in many applications in condensed matter physics, one needs to compare different Hamiltonians defined at different energy scales. To make meaningful comparisons, it is often useful to compute the bandwidth of a given Hamiltonian, i.e. to compute the energy difference between the energy of the state with maximum energy and the energy of the ground state. The bandwidth of a given hamiltonian is computed by the `function FindBandwidth[hamiltonian]`."
   ]
  },
  {
   "cell_type": "code",
   "execution_count": 28,
   "metadata": {},
   "outputs": [
    {
     "data": {
      "text/html": [
       "<div><pre style=\"&#102;&#111;&#110;&#116;&#45;&#102;&#97;&#109;&#105;&#108;&#121;&#58;&#32;&#34;&#67;&#111;&#117;&#114;&#105;&#101;&#114;&#32;&#78;&#101;&#119;&#34;&#44;&#67;&#111;&#117;&#114;&#105;&#101;&#114;&#44;&#109;&#111;&#110;&#111;&#115;&#112;&#97;&#99;&#101;&#59;\">&#50;&#48;&#46;&#56;&#53;&#56;&#54;</pre></div>"
      ],
      "text/plain": [
       "20.8586"
      ]
     },
     "execution_count": 28,
     "metadata": {
      "text/html": [],
      "text/plain": []
     },
     "output_type": "execute_result"
    }
   ],
   "source": [
    "bandwidth = FindBandwidth @ hamiltonian"
   ]
  }
 ],
 "metadata": {
  "kernelspec": {
   "display_name": "Wolfram Language 12.1",
   "language": "Wolfram Language",
   "name": "wolframlanguage12.1"
  },
  "language_info": {
   "codemirror_mode": "mathematica",
   "file_extension": ".m",
   "mimetype": "application/vnd.wolfram.m",
   "name": "Wolfram Language",
   "pygments_lexer": "mathematica",
   "version": "12.0"
  }
 },
 "nbformat": 4,
 "nbformat_minor": 4
}
