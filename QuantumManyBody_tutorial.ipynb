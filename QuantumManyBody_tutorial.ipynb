{
 "cells": [
  {
   "cell_type": "code",
   "execution_count": null,
   "metadata": {},
   "outputs": [],
   "source": [
    "Quit[]"
   ]
  },
  {
   "cell_type": "markdown",
   "metadata": {},
   "source": [
    "# A tutorial to use QuantumManyBody package\n",
    "\n",
    "This notebook has to be considered as a tutorial, which will explain how to use the QuantumManyBody package to perform numerical computations. The package can be useful to simulate quantum mechanical systems in $1$ dimension; such as spin chain models (having, say, $L$, spin sites) and the so-called SYK model, which is a strongly interacting model of $N$ Majorana fermions, which will be included and discussed in a dedicated section.\n",
    "\n",
    "First of all, let us load the package:"
   ]
  },
  {
   "cell_type": "code",
   "execution_count": 1,
   "metadata": {},
   "outputs": [],
   "source": [
    "Needs[\"QuantumManyBody`\"] "
   ]
  },
  {
   "cell_type": "markdown",
   "metadata": {},
   "source": [
    "and we will focus first on showing functionalities which can be used to generate spin chain Hamiltonians (although, the vast majority of the functions can be used for Majorana Hamiltonians too). For simplicity, we will consider chains having $10$ sites, which are then associated to Hilbert spaces of dimension $2^10$"
   ]
  },
  {
   "cell_type": "code",
   "execution_count": 2,
   "metadata": {},
   "outputs": [],
   "source": [
    "latticeSize = 10;\n",
    "length = 2^latticeSize;"
   ]
  },
  {
   "cell_type": "markdown",
   "metadata": {},
   "source": [
    "## Creating spin chain Hamiltonians using `SpinChainHamiltonian` and `SpinOperators`\n",
    "\n",
    "The first function we want to address is the function `SpinChainHamiltonian[listCouplings , listCoefficients]`. Most of the Hamiltonians used in condensed matter are built out of lattices (defined on graphs) in which the spin variables (that here we call $\\sigma_i^a$, with $i$ being the site on the graph and $a = x, y, z$ being the orientation of the spin along the $3$ axes) interact through scalar products when they are connected by an edge of the underlying graph.\n",
    "\n",
    "We will see through some examples, which kind of Hamiltonians can be generated and how.\n",
    "\n",
    "### The Heisenberg model example\n",
    "\n",
    "To start with, we will consider probably the simplest yet non-trivial example of Hamiltonian: the Heisenberg chain with periodic boundary conditions. In this model, the spins variables are placed on a necklace like graph;  only the nearest neighbors sites interact among each other, with a constant coupling. In formulas, the Hamiltonian reads\n",
    "\n",
    "$$\n",
    "H_\\mathrm{Heis} = \\sum_{(i , j)} \\sum_{a = 1}^3 \\, \\sigma_i^a \\cdot \\sigma_j^a \\ ,\n",
    "$$\n",
    "\n",
    "where the notation $(i, j)$ denotes the nearest neighbors pairs.\n",
    "\n",
    "To build this hamiltonian, we first create a list, which contains all the nearest neighbors pairs"
   ]
  },
  {
   "cell_type": "code",
   "execution_count": 4,
   "metadata": {},
   "outputs": [
    {
     "data": {
      "text/html": [
       "<div><pre style=\"&#102;&#111;&#110;&#116;&#45;&#102;&#97;&#109;&#105;&#108;&#121;&#58;&#32;&#34;&#67;&#111;&#117;&#114;&#105;&#101;&#114;&#32;&#78;&#101;&#119;&#34;&#44;&#67;&#111;&#117;&#114;&#105;&#101;&#114;&#44;&#109;&#111;&#110;&#111;&#115;&#112;&#97;&#99;&#101;&#59;\">&#123;&#123;&#49;&#44;&#32;&#50;&#125;&#44;&#32;&#123;&#50;&#44;&#32;&#51;&#125;&#44;&#32;&#123;&#51;&#44;&#32;&#52;&#125;&#44;&#32;&#123;&#52;&#44;&#32;&#53;&#125;&#44;&#32;&#123;&#53;&#44;&#32;&#54;&#125;&#44;&#32;&#123;&#54;&#44;&#32;&#55;&#125;&#44;&#32;&#123;&#55;&#44;&#32;&#56;&#125;&#44;&#32;&#123;&#56;&#44;&#32;&#57;&#125;&#44;&#32;&#123;&#57;&#44;&#32;&#49;&#48;&#125;&#44;&#32;&#123;&#49;&#48;&#44;&#32;&#49;&#125;&#125;</pre></div>"
      ],
      "text/plain": [
       "{{1, 2}, {2, 3}, {3, 4}, {4, 5}, {5, 6}, {6, 7}, {7, 8}, {8, 9}, {9, 10}, {10, 1}}"
      ]
     },
     "execution_count": 4,
     "metadata": {
      "text/html": [],
      "text/plain": []
     },
     "output_type": "execute_result"
    }
   ],
   "source": [
    "listCouplings = Partition[Range @ latticeSize , 2 , 1 , 1]"
   ]
  },
  {
   "cell_type": "markdown",
   "metadata": {},
   "source": [
    "Notice that we are assuming periodic boundary conditions, given the presence of the coupling $\\left\\{10 , 1\\right\\}$. We can similarly consider the case with open boundary conditions"
   ]
  },
  {
   "cell_type": "code",
   "execution_count": 5,
   "metadata": {},
   "outputs": [
    {
     "data": {
      "text/html": [
       "<div><pre style=\"&#102;&#111;&#110;&#116;&#45;&#102;&#97;&#109;&#105;&#108;&#121;&#58;&#32;&#34;&#67;&#111;&#117;&#114;&#105;&#101;&#114;&#32;&#78;&#101;&#119;&#34;&#44;&#67;&#111;&#117;&#114;&#105;&#101;&#114;&#44;&#109;&#111;&#110;&#111;&#115;&#112;&#97;&#99;&#101;&#59;\">&#123;&#123;&#49;&#44;&#32;&#50;&#125;&#44;&#32;&#123;&#50;&#44;&#32;&#51;&#125;&#44;&#32;&#123;&#51;&#44;&#32;&#52;&#125;&#44;&#32;&#123;&#52;&#44;&#32;&#53;&#125;&#44;&#32;&#123;&#53;&#44;&#32;&#54;&#125;&#44;&#32;&#123;&#54;&#44;&#32;&#55;&#125;&#44;&#32;&#123;&#55;&#44;&#32;&#56;&#125;&#44;&#32;&#123;&#56;&#44;&#32;&#57;&#125;&#44;&#32;&#123;&#57;&#44;&#32;&#49;&#48;&#125;&#125;</pre></div>"
      ],
      "text/plain": [
       "{{1, 2}, {2, 3}, {3, 4}, {4, 5}, {5, 6}, {6, 7}, {7, 8}, {8, 9}, {9, 10}}"
      ]
     },
     "execution_count": 5,
     "metadata": {
      "text/html": [],
      "text/plain": []
     },
     "output_type": "execute_result"
    }
   ],
   "source": [
    "listCouplingsOpen = Partition[Range @ latticeSize , 2 , 1]"
   ]
  },
  {
   "cell_type": "markdown",
   "metadata": {},
   "source": [
    "In which we see that the last coupling $\\left\\{10 , 1\\right\\}$, which was \"closing\" the necklace, is now removed. From the formula for the Hamiltonian $H_\\mathrm{Heis}$, we see that, for each non trivial coupling $(i, j)$ the three spin operators are coupled  isotropically with strength one. From this we learn that the list of the coefficients, `listCoefficients`, is simply given by "
   ]
  },
  {
   "cell_type": "code",
   "execution_count": 7,
   "metadata": {},
   "outputs": [],
   "source": [
    "listCoefficients = ({1 , 1 , 1} &) /@ Range @ Length @ listCouplings;"
   ]
  },
  {
   "cell_type": "markdown",
   "metadata": {},
   "source": [
    "Given these two ingredients, we are ready to build our Hamiltonian, using `SpinChainHamiltonian`"
   ]
  },
  {
   "cell_type": "code",
   "execution_count": 8,
   "metadata": {},
   "outputs": [],
   "source": [
    "{hamiltonianHeisenbergDecomposed , hamiltonianHeisenberg} = \n",
    " SpinChainHamiltonian[listCouplings , listCoefficients];"
   ]
  },
  {
   "cell_type": "markdown",
   "metadata": {},
   "source": [
    "As we see, the output is given by two lists: the first list, here called `hamiltonianHeisenbergDecomposed`, contains all the single terms $\\sigma_i^a \\cdot \\sigma_j^a$, organized as a nested list, in which, for each non-vanishing choice of the site indices $i$ and $j$, the three individual terms with $a = x, y, z$ are separately considered. This list is relevant because each element has the property of being proportional to a unitary operator (in this particular example they are effectively unitary). Hence, `hamiltonianHeisenbergDecomposed` can be useful when we deal with algorithms which make use of a Trotterization of the Hamiltonian (we will see an example  in a later section).\n",
    "The second list, here called `hamiltonianHeisenberg` denotes instead the full Heisenberg Hamiltonian, $H_\\mathrm{Heis}$.\n",
    "\n",
    "All the resulting matrices are given as `SparseArray`. This is convenient, since the Heisenberg Hamiltonian, as well as most of the Hamiltonians used in condensed matter physics, are very sparse: we can get convinced by this last point using a `MatrixPlot`"
   ]
  },
  {
   "cell_type": "code",
   "execution_count": 9,
   "metadata": {},
   "outputs": [
    {
     "data": {
      "text/html": [
       "<div><img alt=\"Output\" src=\"data:image/png;base64,iVBORw0KGgoAAAANSUhEUgAAA8AAAAOHCAIAAABn6b0YAAAApnpUWHRSYXcgcHJvZmlsZSB0eXBlIGV4aWYAAHjaVU7bDcQgDPtnihshLxwYB7VU6gY3/pm2OqkWcYzlBMr8nkf5LKi1EjUbOiBE9Og2KJrccB4VFWOPx7J/v3x9/HKvELHRmixTnyVdXghPQ4VmkMMkE526UZFRi0lNHNgABhW7SWzsE5kcQ6Ka+FiDCzbznZ5w3nf+yM3lqsECWZ2vLL708s0rgz84/jmqpGdMRwAAAAlwSFlzAAAdhwAAHYcBj+XxZQAAADx0RVh0U29mdHdhcmUAQ3JlYXRlZCB3aXRoIHRoZSBXb2xmcmFtIExhbmd1YWdlIDogd3d3LndvbGZyYW0uY29tXKKmhQAAACF0RVh0Q3JlYXRpb24gVGltZQAyMDIwOjA2OjE4IDE4OjEwOjI1l9qbKAAAIABJREFUeJzt3U1snHeeJ/a/LFv2tCVayrqhkkqTHjUMyA1MdjkOuhlAGATr7QuFHbVOjSzgyxKBCALBIofkkgM5UnJbBAg2AQgqCA+BsRv0ZdlCQ7wMHCC7PlRrY9dsBukhYrTXGJVUho0WLdHu9ousHES9kc/vUf3KJbFePp9b/58XPmSxH379qOr723f37t0CAAD05rm9vgAAABglAjQAACQI0AAAkCBAAwBAwvN7fQF7q7t+cWmtM7OwMje915cCjKh795HqbZV3l2579dLlVmf7kGZz5uz5uelGdPbMzgA96SH/9H7z6Xbb71+5fPXBvpk71fYNtHnuwuLsSN3ZJjpAd9cvRX/1AHrUvZG5j7RX55dbjy50Oq3lpWszC4sVf8dSOwP05sn5p/ebT3v14nJrx8k6ndbyUquHUDzCQWxyA3TdQyOAXrXfa5XS4+OT7vrFe3+TmucWzs9ON0rpttcvLa91Oq3li8d2nCG1M0Bvnpx/er/5dNe303NzZuH8melGo5QHO5fO2tLqsbp/4h/h+Dyp74HutlelZ2AQujeulVKaP/6zHuJs+8pap2yH7e1/3GxMzy5eONcspXTWrrT73hmgBz3ln95vPt33r3ZKKWVmYXFuOz0/tnNpXV7vhtcyyvF5AgN0t72+enFp+7+Xms29vhxgxN17A8eJY73k5/dapZQyc3bHs+PG7NmZUkppvdfuc2eAJ+g5//R+83mQn9/Y9ZT5/s6dq+9XJ+jt+DwzM5P9RobEpAXo9pXltfv/2HBh8eyJvb4eYLTdewBd8edjt/t/lSr2nX5jZyhO7QzwBD3nn8TNpzG7uLKyslL9Lo3GsZqQfj8+L8y90fu3MFwm8T3QzZmF7c+G+vMDfDfdG51SZo412uurDz+D3mzOnH3wdsCHe14rpZRm5bPqxrFmKZ1y7Ua3TDeyOwP0opf8M7CbT83Hqx/G5+nSfq+XKx9Ckxagp89cWGn4iwMMxr1nNa21pd0fV9/5CfReyjo6N7qlNLI7AzxJr/lnUDef7QfZFe9vezQ+j7BJC9BFegYGZvtZTSmlOXPu7Jl7n7fpdttXLi23Op21pYtlV1lG9bulG8dOlLL7z1ZqZ4BYLv98x5tPd/3yvfy8650gYxKfJ+890ACDc/9ZzczC4tz9T6uXRmN6bnHh3udnlGUAE+dBv8aumDw28XkCn0ADDMz03MrKXLBlYaa13Cqty+tnpjU2A5PiYc30OMdnT6ABno7tj6B3boQtqADj5WF6bp67MM7xWYAGeDoaxyp7oq5VBuqHb6buf2eAQenn5vNYet758Y8xi8/ewgHwbGz3P9V60ByV2hlgUPq9+bRXt4d6l5mFC3O7Su7uz1xpLc+3dh1bSumsLc2vlVJmFupmfw8TT6ABnoadbarbT6Sr39Kx/WnEE33tDDAo/dx8uu3V+eX7U1pWdqfnseQJNECf2qvzy63Kf618+Lzl4V+a6TdmSqtVWu+156Z3PGHZPfortTPAoKRvPu3VpeVWKcGtcFtjdnFltmpD3W10qHkCDdCn7bm2navv73xWc7/FqXnuzPTO3VuX17s7dr68+69SameAQUndfLrrF5+cnseSAA3Qr+kz55qllM7a0sXV9v2/Nd326oMWp7OP/UF5ZPf17d277fsfu3ksa2d3BhiU3m8+jxQ+T1Z6Lt7CAfAdNGbPL9y4tNy6N7z7sU3NmYXzOz8M05g9v3BjablVOmvLS2uP77zrz09qZ4BB6fXm076ytv1xw+izgWV8H017Ag3wHTSm5xYvLJybaTYfLDWbM+cWLixWfpKmMT23cmFhx94LFxYrP3ee2hlgUHq6+Ux2o+a+u3fv7vU1AADAyPAEGgAAEgRoAABIEKABACBBgAYAgAQBGgAAEgRoAABIEKABACBBgAYAgAQBGgAAEgRoAABIEKABACBBgAYAgAQBGgAAEgRoAABIeH6vL2CQ5ufn9/oSAACotrKysteXMBhjFaBL/oWZn58fm9cSGDluQcCI6uP2NU4POr2FAwAAEgRoAABIEKABACBBgAYAgIRhDtDd9Yvz8/Or7b2+DgAAnq2hzoHDG6C765fWOnt9EQAAPHNDngOHNEB31y8uDfOPDQCAp2P4c+AQ9kB326uXlltD/VMDAOApGI0cOFwButtev3J57d4PrdlsdjrD/uMDAGAgRigHDtVbONpXlu/91JozCxcWz57Y6+sBeLqMIQRG1FO4fY1SDhyuJ9CllObMwvm56UYp5Zl86tJfLwCAIfGMc2DfhipAT5+5sNJo7PVVAADwrI1SDhyqt3CUUfmpAQAwWCOUA4crQAMAwJAbqrdwDMD8/HzN1h3veL72y59Ge079Zxeq14+e7u/CACJbv/v31Ruee7Fy+eDhU0/xagD6VR/Dxsm4BWgfCgQA2BP1MWyc4rW3cAAAQIIADQAACQI0AAAkCNAAAJAgQAMAQIIADQAACeNWY5cSlT2XUrb++n+q3vCnX4an21/d2Ko6Gqh38D/6+5XrUT902BsdnwqAAfIEGgAAEob4CfT03MrK3F5fBAAAz9xw50BPoAEAIEGABgCABAEaAAASBGgAAEgQoAEAIEGABgCAhCGusXv66kacBANTtv5mOTri4J8uVK7f/uRqdMhzL71auf7yoZPhhQETIztgpZSytblRfarDpwZzTQB4Ag0AACkCNAAAJAjQAACQIEADAECCAA0AAAkCNAAAJAjQAACQMNE90HX2v1i5HJU9l1K+vP5XlesvHv9p+FWCHuibH7xduX7ktbfCUwETI+qHLnFFdE11dM3ZAKjkCTQAACQI0AAAkCBAAwBAggANAAAJAjQAACQI0AAAkCBAAwBAgh7oalNHT1eu3/7kanRI1Pf8h7/7VXTIH/3wn1SuHwi+etQPXVREA6WUuNS5pgd6a3Oj+lSHTw3mmgDGjifQAACQIEADAECCAA0AAAkCNAAAJAjQAACQIEADAECCAA0AAAkCNAAAJBikkvPcS6+G24JN0bSUUsrWv/8XletTP7lYuR4NWCmlbH70y8r1wz/4WXRIeFWmKsDYiQaslHjGSrRecyqACeEJNAAAJAjQAACQIEADAECCAA0AAAkCNAAAJAjQAACQIEADAECCHuiclw+djDbd/ODtyvWa8uao7/mLjf+1cv3F4z+NTtVH33PWzQ9/EW06cvLnT/urA09J1Osc9kMHVfFFWzwwMTyBBgCABAEaAAASBGgAAEgQoAEAIEGABgCABAEaAAASBGgAAEgQoAEAIMEglYE58tpblevRgJUSz1iJBqbc+fLT6FSfXVuvXN/3wlR0yFTw1aNRCFvRieIZKwaswOjKDlip2RSdCmBEeQINAAAJAjQAACQI0AAAkCBAAwBAggANAAAJAjQAACQI0AAAkKAH+qmL+qFLKZsf/bJy/fAPfla5HpU9l1K+2fzbyvXnD78eHbK1uVG5HvVAR+slroiO+qGLimgYWTWlzlEPdHS3KbU3FoCh5Qk0AAAkCNAAAJAgQAMAQIIADQAACQI0AAAkCNAAAJAgQAMAQIIADQAACQap7KVoYEpk3wtT0aZoYMpXn/w6OuRAeFnpuQbRKIRowEqJZ6wYsAKjK5qxEg1YqdlUM64FYM95Ag0AAAkCNAAAJAjQAACQIEADAECCAA0AAAkCNAAAJAjQAACQoAd6lEwdPR1t2trcqFwPy55L+cNHv6pc3/+9ZuV6H7WsUT90iSuio37ooiIaRlbN3SPqgY7uaaX2xgLwbHgCDQAACQI0AAAkCNAAAJAgQAMAQIIADQAACQI0AAAkCNAAAJCgB3ov1RSdVqppPw03xYdEfc9b/8+/qD7gH/y3fVxY9pCoH7qUcuvjdyvXa+qxn4Hbn1ytXD/0/R8/4yuBURRVREf90DWb+uiqB+iPJ9AAAJAgQAMAQIIADQAACQI0AAAkCNAAAJAgQAMAQIIADQAACQI0AAAkGKSyl6JhIjc//EXles2QkX5GmURDB4KBKb//8P+ITnXn+z+pXH/lxGz6quq+kfT3uIc+u7YeberjxwKTpmYqSjRIJRpN1cftEaCeJ9AAAJAgQAMAQIIADQAACQI0AAAkCNAAAJAgQAMAQIIADQAACXqgh9GRkz+vXI/6oUtcEd1PP3RwSFT2XGPzo19Gm5576dXK9amjp7NfZW8d+v6PK9dvf3I1OiSqiNYPDb2IKqLDfuhgveZUAPU8gQYAgAQBGgAAEgRoAABIEKABACBBgAYAgAQBGgAAEgRoAABIEKABACDBIJVREg1YKfGMlWjASsnPWKkZ8xENTNm3/0B0yLd/+DT11Usptz5+t3J9OGevRANWSjxjJRqwUsxYgR5kB6yUUrY2N6pPlR9BBUwUT6ABACBBgAYAgAQBGgAAEgRoAABIEKABACBBgAYAgAQBGgAAEvRAj4moIjrqhy5xRXQfBajPvfRq5XpN2fOnB39avSGolC6lvBCUvN784O3K9SOvvRWdam9FFdFRP3SJK6L1Q8MTRf3QJa6IrqmOrjkbMDk8gQYAgAQBGgAAEgRoAABIEKABACBBgAYAgAQBGgAAEgRoAABI0AM95qJ+6BJXRPfRDz119HTuskrY97xv/4HoiLt3vqpcPxB89agfugxrRXTUD13iiuioH7qoiIYeRKXONT3QW5sb1afKN+gDo8sTaAAASBCgAQAgQYAGAIAEARoAABIEaAAASBCgAQAgQYAGAIAEARoAABIMUplc0YyVWx+/GxyRHhMQn6q8EMwviKallFL+8NG/rlx/6Y/PVK5HA1ZKPJekZpTJ3oouLPpGSjxjxYAVeKJowEqJZ6xE6zWnAkaXJ9AAAJAgQAMAQIIADQAACQI0AAAkCNAAAJAgQAMAQIIADQAACXqg2Wkqrk8e4KlufvB25XpNeXPU9/yHv7tSuf7C3/sH0amef+X1aNNoqSmujiqi9UPDdxH1Oof90Jsb4akOp8v1gSHhCTQAACQI0AAAkCBAAwBAggANAAAJAjQAACQI0AAAkCBAAwBAggANAAAJBqmwN4689lblejRgpcQzVmoGpkS+DkYe3PrienTIAOfLPBvRjJXsgJVixgr0IDtgpWZTdCpgeHgCDQAACQI0AAAkCNAAAJAgQAMAQIIADQAACQI0AAAkCNAAAJCgB5rhEvVDl7jA+PlXXq9cj8qeSylf/65duX7g+z+pvbpxkO2HLnFFtH5oeKKaUueoB3prcyM82+FTA7gm4DvzBBoAABIEaAAASBCgAQAgQYAGAIAEARoAABIEaAAASBCgAQAgQYAGAIAEg1QYGdEEkMitL65Hm6KBKV998uvokM+C9bEZJlLz441mrEQDVsoY/Vjg6YlmrEQDVmo21YxrAZ4GT6ABACBBgAYAgAQBGgAAEgRoAABIEKABACBBgAYAgAQBGgAAEvRAM7amjp7OHhKVPZdSvtj4l5Xrz7/yeuX6y4dOZr/60IoqoqN+6BJXROuHhieqKXWOeqC3NjfCsx0+NYBrAh7nCTQAACQI0AAAkCBAAwBAggANAAAJAjQAACQI0AAAkCBAAwBAgh5odqop941EPcEjp6alOOp7/vz//Z8r17/94T+JTjU2P66abyRqq6XSrY/frVx/7oVDles1PcGMt+ilr/l/XLTJbxF8F55AAwBAggANAAAJAjQAACQI0AAAkCBAAwBAggANAAAJAjQAACQI0AAAkGCQCjtF0zE+u7YeHRLNXhmbiSGllJcPnaxcjwamfPXxv41Odevr25Xrz730anTIyI08GLkL3ltTR09Xrm9+9MvK9a34VH7yk6nmdY8GqWxtblSf6vCpwVwTjDVPoAEAIEGABgCABAEaAAASBGgAAEgQoAEAIEGABgCABAEaAAAS9EDTq1dOzEabooroqB+6jFFFdPSNRGXPpZQ7X35auX732y+jQ6KzRf3BjIfDP/hZ5XrUD13iimj90BMreunDfuhgveZUMIE8gQYAgAQBGgAAEgRoAABIEKABACBBgAYAgAQBGgAAEgRoAABIEKABACDBIBUGIJqxEg1YKfGMlbEZsPLcS69Gm6KBKfu/14wO+fYP1bNXatz88BeV60dO/jx7KoZNNGClxDNWogErxXSMSZUdsFJK2drcqD7V4VODuSYYHZ5AAwBAggANAAAJAjQAACQI0AAAkCBAAwBAggANAAAJAjQAACTogeYpivqhS1wRHfVDl1GriK7p1r319e3K9Zqy5ztH/rz6VNffiQ458Gr1j+vmB29Xrh957a3oVIyQqCI66ocucUW0fujJVPO6RxXRNdXRfosYV55AAwBAggANAAAJAjQAACQI0AAAkCBAAwBAggANAAAJAjQAACTogWZvRBXRUT90iSuiR6sfupQydfR09pCo7/mb2x+GX+X4m6kvEfVDFxXRYyHqhy5xRbR+aHaIXvqaHuitzY3qUx0+NZhrgj3iCTQAACQI0AAAkCBAAwBAggANAAAJAjQAACQI0AAAkCBAAwBAggANAAAJBqkwXKIBKyWesTI2A1ZufviLaNOBV6u/l5ppKZ8HM1bufHG9+kvkx7vUiL76V59Wv1hHTv58gF+dlGjGSnbASjFjZVLVvO7RjJVo3a8Qo8ITaAAASBCgAQAgQYAGAIAEARoAABIEaAAASBCgAQAgQYAGAIAEPdCMjKgiOtsPXYa1IrqmC/nmB29nzxb1Pf+Hb/+0cv1Pvvib6FS3glNNxdXRLx86Wbl+985Xles1HdgqovdKth+6xBXRyn0nVvTSh/3QmxvhqQ6fGsw1wSB4Ag0AAAkCNAAAJAjQAACQIEADAECCAA0AAAkCNAAAJAjQAACQIEADAECCQSqMvOyAlRLPWBnOASullCOvvVW5XjNg5UAw5SQamPKbL38UnepHz7cr1299/G50SDRjJRqFEA3gKPGMFQNW9ko0YKXEM1ZqXl8zViZTdsBKzSa/QuwJT6ABACBBgAYAgAQBGgAAEgRoAABIEKABACBBgAYAgAQBGgAAEvRAM7aifugSV0RH/dBlWCuio37oGre+uF65HpU9l1L2HzpZuX4nOFUfon7oElcIR/3QRUX03okqoqN+6BK/vsp9J1PN6x71QG9tboRni28s8B15Ag0AAAkCNAAAJAjQAACQIEADAECCAA0AAAkCNAAAJAjQAACQIEADAECCQSpMomjGSjRgpcQzVoZzwEqNqaOnK9dvffxudEg0MGX/945Hh0Rni756jWgUQjSAo8QzVgxY2SvRgJUSz1ipeX3NWJlM0eseDVip2eRXiO/OE2gAAEgQoAEAIEGABgCABAEaAAASBGgAAEgQoAEAIEGABgCABD3Q8FDUD13iiuih7Rn9/PaHlesvHzpZud5HQ3NNdfTXv/vr6g35rxKJ+qFLXCEcVQ6X2qJinqroJ1/zYkWv757/n449UfO6R/fnrc2N8GzxjQUe5Qk0AAAkCNAAAJAgQAMAQIIADQAACQI0AAAkCNAAAJAgQAMAQIIeaOhJTUX0cPrq06uV63fvfFW53kf7aV11dLDpk3/331Wuv3j8p+FXOf5m8rri70XD6+ioaeaOKqL1Q7ND9NJH/dA1m/wWsYMn0AAAkCBAAwBAggANAAAJAjQAACQI0AAAkCBAAwBAggANAAAJAjQAACQYpALj6cjJn1eu3/zwF5Xr0RCK0teMlUg0MOWb2x9Gh9y6/k71hv0vRofUTXhh9EUzVrIDVorpGJOq5nWPBqlsbW5Un8p4pknlCTQAACQI0AAAkCBAAwBAggANAAAJAjQAACQI0AAAkCBAAwBAgh5omCzZfugS1+j2UYA6dfzNyvWw7LmUO19+Wrn+3AuHokOiJtfyXFgdrcx1DGT7oUvN77Z+6EkVvfRhP3R0t/FbNO48gQYAgAQBGgAAEgRoAABIEKABACBBgAYAgAQBGgAAEgRoAABIEKABACDBIBWglHjASolnrERDKEofc0n2hyNOooEp3/69n0aH7Lv5b6q/yKGT0SE3P3i7cv3Ia29FhzAqogErJZ6xUve7bTrGRMoOWCmlbG1uVJ/K2Kax4Ak0AAAkCNAAAJAgQAMAQIIADQAACQI0AAAkCNAAAJAgQAMAQIIeaOAJooroqB+6xDW6UQHq1NHT4amCmtWo7LmU8txLr1auf/uHT6NDDgQXoB96vEUV0VE/dKn53dYPPZFqXvfo3lVTHe23aIR4Ag0AAAkCNAAAJAjQAACQIEADAECCAA0AAAkCNAAAJAjQAACQoAca6FPUD11qanSDHug6z71Yubz/0MnoiKjv+auP/210yEs/OFe5HvVDf3ZtPTrVKydmo02MiqgfusS/2/qh2SF66Wt6oLc2N6pP1cedk6fME2gAAEgQoAEAIEGABgCABAEaAAASBGgAAEgQoAEAIEGABgCABAEaAAASDFIBBq9mDkVWNEHg5gdvR4dE00+iaSmllC8++N+rT/X9n1Sum5YysaLf7eyAlWLGyqSqed2jGSvRul+hPeQJNAAAJAjQAACQIEADAECCAA0AAAkCNAAAJAjQAACQIEADAECCHmhgJB157a1oU1QRHfVDl7jv+duvb1euf3ZtPTrVvhemKten4q/OGMj2Q5e4Ilq578SKXvqwH3pzIzxV0KDPoHgCDQAACQI0AAAkCNAAAJAgQAMAQIIADQAACQI0AAAkCNAAAJAgQAMAQIJBKsC4iWas1Ew/eeXEbOqQbzb/NjrV/kM/rFz//PaH0SEvHzoZbWLURQNWSjxjJRqwUsxYmVTZASs1m/wKDYon0AAAkCBAAwBAggANAAAJAjQAACQI0AAAkCBAAwBAggANAAAJeqCBSRGVPdfY98JU5XpU9lxK+fp37epT7T8Qfhk90BMpqoiO+qFLXBGt3Hcy1bzuUQ/01uZGeLbDpwZwTRPDE2gAAEgQoAEAIEGABgCABAEaAAAS+vkQYXf94tJap3rbzMLK3PSuA9qrly63OtuHNJszZ8/PTTeis2d2BgBgLIxQwuznCXT3RvC9VWqvzi8tP7jcUkqn01peurha+Tn11M4AAIyLEUqYfTyBbr/XKqU0z11YnH1ibO+uX1xulVJK89zC+dnpRind9vql5bVOp7V88diOM6R2BgBgfIxSwsw/ge7euFZKaf74z3r4Yu0ra52y/aPYfkjemJ5dvHCuWUrprF1p970zAADjY6QSZv4J9L3H6yeO9fLdvdcqpZSZszuSfWP27Mzacqu03mvPTU/3szPAszB19HTl+ue3P4wOiQam/OGjX0WH7P9es3LddIzJFA1YKfGMlWjASvFbNKmi1z0asFKz6dn9Co1Uwkw/gb73nwczb/Twhe5fcMW+02/MlFJK6712XzsDADBGRithpp9Ad290Spk51mivr16+ev/N2M3mzNnzZ6Ybjcf3vFZKKc3K/5JoHGuW0inXbnTLdCO7MwAA42S0EmY2QN+L8a21pdajq51Oa3mpteNd3718lLJzo1tKI7szAABjZMQSZjJAb8f4Ukpz5tzZM/feit3ttq9cWm51OmtLF8uujzJWv5elcexEKbu/o9TOAACMgVFLmMn3QN+P8TMLi3P3P8hYGo3pucWFmVKUZQAAkDVqCTP5BHp6bmVlLtiyMNNabpXW5fUz0xqbAQDo0aglzH5GeQe234i9t+9Unp+fr9m6srLyzK4EAGCi1Mewfg1FwtxhoAG68n0k1Z9sfPhWl/53rpKKyDVtiIoz6dGtj9+tXI/6gxkPLx86GW4LNkVlz6WUW//uv6/e8JP/oXL54OFTNdfGGIsqom9df+cZXwkjqibe1ISi3tXHsH7j9VAkzB3ykwh71jgW/rV44EGpSGpnAAAm0zAkzAEG6J1Fe41jJ0rZrgap2LlTyiOfiUztDADAZBjGhJkL0O3V+fn5+fmL6xUX0X3/6o6LqJnvsnsqTGpnAADGxcglzFyA3r6GztX3d35/3fVLa51SSvPcmemdu7cu7/hxdNcv777g1M4AAIyJkUuYybdwTJ851yyldNaWLq62719Gt716cWmtU0opM2cf6xd5ZPf17d277fXtnR/7SWR3BgBgTIxawtx39+7d3BHd9uql5VbF1JbmzML5uV0fcOy2V5eWW1U7L87tuuDUzrvNz89r4eAZ08JBj2puOFELx5QWDnpT08IxdfzNZ3kljK7oHjXARPSEnDbECXO3/X/5l3+ZO+Jg48/+8x//8fO/v3G7c/v29pdvzvyjt87/l7OvHazc/S9+/Mef/H83Ht37rf/mv559rfrcve+8269+9au/+Iu/6P1b+er3H0ebDvzR0d7PwyT78vO/q1x/8eB//IyvhCFXc8P58vr/Vbn+YrM6+hx46dXBXBPj4svbH0abXqypXIRHRPeoASaiJ+S0IU6Yu+WfQA+x9BPozY1w27dfVi57Ms0O0X+yfxP/PYuaXJlY0b1o66//eeX6S38S/gXy2wUMrWxOG2ZPsQcaAADGjwANAAAJAjQAACQI0AAAkCBAAwBAggANAAAJAjQAACQI0AAAkPD8Xl/AXqoZhxtNxzD9mx2i130rPmTzo19WrhuBMbGie9E3wcCUbzZ/E51qM1h/Lh5eaOw8QJYn0AAAkCBAAwBAggANAAAJAjQAACQI0AAAkCBAAwBAggANAAAJE90DXSMs993ciA6JKqL1Q0+mmtc9qoiO+qGLiuhJFb3uUdlziSuinz/8o+xXv3X9ncr1qeNvZk8FMGY8gQYAgAQBGgAAEgRoAABIEKABACBBgAYAgAQBGgAAEgRoAABIEKABACDBIJWcg4dPRZuiQSrRejFjZVKFY3riQ6IZKwasTKbnXno12hQNTNm3/0B0yGfX1qtP9crrles3P3g7OtWR196KNgGME0+gAQAgQYAGAIAEARoAABIEaAAASBCgAQAgQYAGAIAEARoAABL0QA9MWO67uREdElVE64eeTDWve1QRHfVDFxXRY23q6OnsIVHZcynlq09LI0E8AAAamElEQVR+Xbm+/+APK9cPxF89qojWDw2MGU+gAQAgQYAGAIAEARoAABIEaAAASBCgAQAgQYAGAIAEARoAABL0QD91Bw+fijZFPdD6odkhbBmPD4kqovVDj7db19+pXH/+ldejQ6K+5y+vXalcf/H4P4pOFVVER/e00tdtLeq0fuXEbPZUAP3xBBoAABIEaAAASBCgAQAgQYAGAIAEARoAABIEaAAASBCgAQAgQYAGAIAEg1T2UjgdY3Ojen2gwwgYAzWvezRjxYCV8TZ1/M3K9ZsfvB0dEk0/iQamfPv17ehUd7/oVK5Hs1r6E53t5oe/qFw/cvLnA/zqAMUTaAAASBGgAQAgQYAGAIAEARoAABIEaAAASBCgAQAgQYAGAIAEPdDD6ODhU5XrNT3Q0Sb90BMrbBkP9o/6oYuK6LFw5LW3ok1RRXTUDx2VPZdSPp/6h5XrL9/6P6NDbn35aeX6VPDVS80dMtg/6ocuKqKBfnkCDQAACQI0AAAkCNAAAJAgQAMAQIIADQAACQI0AAAkCNAAAJAgQAMAQIJBKqOkZirK1uZG9Xo8e8WMlcmUHbBS4hkrBqyMh2jGSnT32H/wh9GpooEp3359OzpkgE9xsgNWSjxjxYAVoJ4n0AAAkCBAAwBAggANAAAJAjQAACQI0AAAkCBAAwBAggANAAAJeqDHRFiAGvdAR5v0Q0+mupbxYD3qhy4qosdCH7eCW19+Wrle86gmqoi+df2d6JCp42+mriq6PZb4dzvqhy4qooFSiifQAACQIkADAECCAA0AAAkCNAAAJAjQAACQIEADAECCAA0AAAl6oMdcXbnv5kb1un5oHhe99FGHbokrovVDj7epo6ezh0R9z19e/6vokM8PnaxcfzlYrxE26MeHRBXR+qFhongCDQAACQI0AAAkCNAAAJAgQAMAQIIADQAACQI0AAAkCNAAAJAgQAMAQIJBKpMrnCAQDFKJ1osZK5OqbkxPsG7Aygj57Np65fr+gz+MDonuKjWmjr9ZuR5NSyml/CG4sG9f/XHl+qHvV6/XqPlGamas7KFoMFYp5c7WbyvXXzkx+9QuB8afJ9AAAJAgQAMAQIIADQAACQI0AAAkCNAAAJAgQAMAQIIADQAACXqg2Skq963pGY0qovVDT6zwtyjYP+qHLiqi907UE3zzw19Eh0Svbx/90C/HPdBR3/O+/S9Wrt+6/k50qn0vHKpcr6mO7uN7eQZqrur217cq16Oeb/3Q0AtPoAEAIEGABgCABAEaAAASBGgAAEgQoAEAIEGABgCABAEaAAASBGgAAEgwSIVe1RT1R4NUovVixsqkyg5YKfGMFQNW9sqRkz+PNkUzVmpe3z7mkkRTTqKBKXeO/Hl0qv03/031qT5+Nzpk6ujp2qsbOtGP6/YnVyvXowErxYwVeIQn0AAAkCBAAwBAggANAAAJAjQAACQI0AAAkCBAAwBAggANAAAJeqAZgLDcd3MjOiSqiNYPPZlqXveoQjjqhy4qovdOVBEd9UOX+PXtox963wuHKtejsudSyn/Y959Wrv/Jnf87+9VvfvB25fqR197KnurZyPZDl7giWj80E8gTaAAASBCgAQAgQYAGAIAEARoAABIEaAAASBCgAQAgQYAGAIAEARoAABIMUuEpqhmFEA1SidaLGSuTKhzTEx8SzVgxYGWvRANWSjxjpeb1jW4s0WSQWx+/G50qGpjym2+mo0N+FJztwNHTlevRgJUyrDNWoh9jiWesRANWihkrjC9PoAEAIEGABgCABAEaAAASBGgAAEgQoAEAIEGABgCABAEaAAAS9ECzN8Jy382N6JCoIlo/9GSqed2jCuGoH7qoiN47UUV01A9d4tc36oeeChqaa0Rlz6WU/d87Xrn+8qGT2a8SVUQPZz90iSuio37oEldE64dm1HkCDQAACQI0AAAkCNAAAJAgQAMAQIIADQAACQI0AAAkCNAAAJCgB5rhEjW5lrgHWj80O4Qt4/EhUUW0fui9EvVDD1bUxHwgro6O+p5/t/G/Va4/f/j16FRD2/ecFfVDl7giWj80o84TaAAASBCgAQAgQYAGAIAEARoAABIEaAAASBCgAQAgQYAGAIAEARoAABIMUmFkhNMxNjeq14MBKzWnYrzVvO7RjBUDVsZbNMokGrBSIxqYsv97x6NDbl1/p3rD/hejQ6biCS/DKZqxkh2wUsxYYch4Ag0AAAkCNAAAJAjQAACQIEADAECCAA0AAAkCNAAAJAjQAACQoAeakXfw8KnK9Zoe6GiTfuiJFbaMB/tH/dBFRfRYiPqhS1wRHR0Slj2Xsv/Qycr1O7c/jA6J6pOjuuWhle2HLnFFtH5o9oQn0AAAkCBAAwBAggANAAAJAjQAACQI0AAAkCBAAwBAggANAAAJAjQAACQYpMLYqpmKsrW5Ub0ez14xY2UyZQeslHjGigEr46Fmxkq1/S9GW6KBKd/Eg1SeD2avjI2aiTDRjJVowEoxY4WnyRNoAABIEKABACBBgAYAgAQBGgAAEgRoAABIEKABACBBgAYAgAQ90Eyig4dPVa7X9EBHm/RDT6a6lvFgPeqHLiqix9rU0dPRpqjYuKbs+evP/rb6VC8cig6paVYeLdE3Ev0YS1wRrR+a784TaAAASBCgAQAgQYAGAIAEARoAABIEaAAASBCgAQAgQYAGAIAEPdDwUF257+ZG9bp+aB4XvfRRP3Qp5db1dyrXp46/OYgrGjfR/xmjfveh1UdDc9T3/Pvf/qvokOdeerVy/eW4bXq01PwYo4roWx+/Gx1S09sNj/IEGgAAEgRoAABIEKABACBBgAYAgAQBGgAAEgRoAABIEKABACBBgAYAgASDVKAn0YyGaJBKtF7MWJlUXvdBubP128r121/fqlzvY17J0Iq+l2haSinl1q8XK9fv/OifVq6P0/iecXrpGTaeQAMAQIIADQAACQI0AAAkCNAAAJAgQAMAQIIADQAACQI0AAAk6IGG7yQq993a3IgOiSqi9QRDL145MVu5/tm19cr1259cjU41Nj3BLx86GW2K+p6/vP5XleuffftldKp9L0xVrk8dPV17dTCGPIEGAIAEARoAABIEaAAASBCgAQAgQYAGAIAEARoAABIEaAAASBCgAQAgwSAVeCoOHj4VbYoGqUTrxYwV6EF2wEqJZ6yMzYCVUsrU8Tcr16OBKV998uvoVAe+/5PK9Zq5USX4Ku5pjDpPoAEAIEGABgCABAEaAAASBGgAAEgQoAEAIEGABgCABAEaAAAS9EDDsxYVoNZ0qUYV0bpU4YmifugSV0RH/dBljCqi970wVbkelT2XUr79+nb1hq3fRoc8/8rrles3P3i7cv3Ia29Fp4Kh4gk0AAAkCNAAAJAgQAMAQIIADQAACQI0AAAkCNAAAJAgQAMAQIIADQAACQapwLA4ePhUtCkapBKtFzNWoAfRjJVowEqJZ6yM3ICVqaOnK9drJjpFA1O+2fzb6Ij932tWrh8Ivno0YKWYscKQ8QQaAAASBGgAAEgQoAEAIEGABgCABAEaAAASBGgAAEgQoAEAIEEPNIyAqNS5prE1qojWDw1PFPVDl7giemz6ocu3X0Zbnn/l9cr1qOy5lPL7j/515fofnfwvKtejfuhSyq3r71SuTx1/MzokEr1YZRRfL/aIJ9AAAJAgQAMAQIIADQAACQI0AAAkCNAAAJAgQAMAQIIADQAACXqgYYQdPHwq2hT1QOuHhu8iqojO9kOXYa0crrkV3Pzg7cr1mvLmqO/5ztZvsxdWU86dte+FqWjTzQ9/Ubl+5OTPB/XVGQ+eQAMAQIIADQAACQI0AAAkCNAAAJAgQAMAQIIADQAACQI0AAAkCNAAAJBgkAqMp2gawtbmRvV6MGCl5lTAA9kBKyWesTKcA1ZKKUdee6tyPRqwUmpnrFT6fOofRpvufvTLyvXnXno1OmQq+Op1I6iCdQNW2METaAAASBCgAQAgQYAGAIAEARoAABIEaAAASBCgAQAgQYAGAIAEPdAwWaIC1Joe6GiTfmh4oqgfusQV0VE/dBnWiuioH7qUcuv6O5Xr0Y8lKnsucd/zt3/4tPbqcsI7ZLB/1A9dVESPO0+gAQAgQYAGAIAEARoAABIEaAAASBCgAQAgQYAGAIAEARoAABIEaAAASDBIBSildirK1uZG9Xo8e8WMFXiiaJhINGClxDNWhnPASill6vibqf2jaSklHpiyb/+B6JDNYCzL4R/8LHVVJT9gpcQzVgxYGQ+eQAMAQIIADQAACQI0AAAkCNAAAJAgQAMAQIIADQAACQI0AAAk6IEGniAsQI17oKNN+qHhiaJ+6BJXREf90GWIK6IrTR09nT0kKnsupXyz+ZvK9a1XXo8OiW53fewfVURH/dBFRfRI8QQaAAASBGgAAEgQoAEAIEGABgCABAEaAAASBGgAAEgQoAEAIEEPNNCnmlLnrc2N6nX90PAdRBXRtz5+9xlfSY+igup9L0xVrmdrmEsph3/ws2hT1Pe89df/PDzdf/LPKpf7uEeFDfrxIe6QI8QTaAAASBCgAQAgQYAGAIAEARoAABIEaAAASBCgAQAgQYAGAIAEARoAABIMUgEGL5wgEIwJiNaLCQLQg6mjp/f6Eqod+v6PK9dvfviLyvWaISN9zFgJDwmmpZRSPv/NSuX6nR/848r154NZLaWUlw+dzF0VI8UTaAAASBCgAQAgQYAGAIAEARoAABIEaAAASBCgAQAgQYAGAIAEPdDAsxOVOm9tbkSHRBXR+qFhdB05+fPK9agfusQV0f30Q8d3j6jv+atPfl25fvfOV9Gpbn1xvXJ9aEu7SfEEGgAAEgRoAABIEKABACBBgAYAgAQBGgAAEgRoAABIEKABACBBgAYAgASDVIC9VzMKIRqkEq0XM1ZgZEUDVko8YyUasFL6mrHy/CuvV65HA1Pu3P5tdKp9+w9kv/pn19Yr1185MZs9FU+bJ9AAAJAgQAMAQIIADQAACQI0AAAkCNAAAJAgQAMAQIIADQAACXqggaEWlTpvbW5Eh0QV0fqhYXRFFdFRP3SJK6Jr+qFfPnSycv3WF9cr12vKnr/9+nblelT2XOIW6psfvF25fuS1t6JT8bR5Ag0AAAkCNAAAJAjQAACQIEADAECCAA0AAAkCNAAAJAjQAACQIEADAECCQSrASKoZhRANUonWixkrMLKiASslnrESDVgp8Y1l6ujp3GXFA1O++uTX0SHRIJUDwVePBqwUM1aePk+gAQAgQYAGAIAEARoAABIEaAAASBCgAQAgQYAGAIAEARoAABL0QAPjJip13trciA6JKqL1Q8Poiiqiayrhs6Ky5xKXOkfrpZRbv16sXD/49/9Z5XrUD13i211Ngz4pnkADAECCAA0AAAkCNAAAJAjQAACQIEADAECCAA0AAAkCNAAAJOiBBiZFTQFq1AurHxrGzwD///vKidlo080P3q5crylvjvqef//bf1W5/tIf/+PoVM+99Gq0iYHwBBoAABIEaAAASBCgAQAgQYAGAIAEARoAABIEaAAASBCgAQAgQYAGAIAEg1QAwsEKW5sb1evBgJWaUwET5chrb1WuRwNWSjxjJRqY8uX1vwpP1fjzyvVbX9+ODpmKJ7ywmyfQAACQIEADAECCAA0AAAkCNAAAJAjQAACQIEADAECCAA0AAAl6oAFCBw+fqlyv6YGONumHBkrcD13i4vnnXnq1cj0qey6lfLHxLyvXX/7RP629OnrlCTQAACQI0AAAkCBAAwBAggANAAAJAjQAACQI0AAAkCBAAwBAggANAAAJBqkApNVMRYlGIdTMXjFjBSjx5KbIra9vR5uigSlbf7Ocu6ZSpo6/mT1kEngCDQAACQI0AAAkCNAAAJAgQAMAQIIADQAACQI0AAAkCNAAAJCgBxpgkKIm15oe6GiTfmigxtTR0wM82+33/8fqr6IHuoon0AAAkCBAAwBAggANAAAJAjQAACQI0AAAkBC1cHTXLy6tdWYWVuamo0O77dVLl1udzr3/1WzOnD0/N92o3LPbfv/K5asP9q3dufJCSvPchcXZXvYHAGDkDXUWrQ7Q3fVLa53KLfe1V+eXW48udDqt5aVrMwuLO7/L9urF5daOk3U6reWlVg+h+MkXAgDAmBnyLFoRoLdzdu2pLt674ua5hfOz041Suu31S8trnU5r+eKxR6+ku759xc2ZhfNnphuNUh7sXDprS6vHav6zQnwGxodSZ2DP1ZQ6h5v+q33h6f6Xu9/5iqoNfxbd8R7obnv1SVdcSvvKWqeUe0+ytx99N6ZnFy+ca5ZSOmtX2g9P9/7VTimlzCwszm1f8WM7l9bl9W72kgEAGE+jkUUfBuhue3314tJ2Rm82a675vVYppcyc3fHIuzF7dqaUUlrv3b/qB9f8xq5kf3/nztX3q696+5JnZmbiKwEAYEyMUBZ9EKDbV5bX7j/gvrB49sQTr3n3hZTpNx6/6sbs4srKykr1k/HGsZofzP1LXph7I94JAIAxMUpZ9LH3QDdnFrY/j9iu2HX7dDeulVJK81jVO64bx5qldMq1G93yxI81dm+ET+cfXvJ0ab/3hPMAADAWRiWLPgjQ02curDR66PKo+VoPdG50S3nCubb/46Gc2PXdP3rJAABMglHKog/fA93LFT+0+2uVUkrjWPy4fceFXb53zbuevovPAAATaISy6J5MInzwmcZdlyY+AwDwdH3XLBpNInx6Hlb7PY34PD8/X7N1ZWWl3xMDAFCnPoYNjQFk0WccoB9ecfPchafx9FlEBgAYmMy0lPoYNhzxejBZtN+3cFy7UVWZt/2xyMBjV7xzcKI3bwAA0KM9zaLpJ9Db7SC1qnpFHo4hn1m4MLerWOR+z3Vreb6169hSSmdtaX6tlDKzUDdvEQCAsTYMWTT9BHr7w42dIPV3Stn9schue3X+wRjyld1XDAAAvRiGLJp/D/T0GzOl1Sqt99pz0zueBVcPhmmvLi23Sql8WP5AY3ZxZbZqQ3t1frlVfywAAJNiCLJoH++Bvj8k8fL648H/fp/eY9fcXb/45CveQ8PxfnZgQrkFASNqT29fe59F+/kQ4fSZc81SSmdt6eJ6+96Fd9v335TdPHfm4TU/UrI3jOkZAICRs+dZtK8au8bs+YUbS8ut0llbXlp7ZEPz8YtrX1nbfot39H7sMrSPpgEAGE57nUX7rLFrTM+tXFiYaTYffu3mzMKFxccaMuqLRAAAoC97m0X33b2b6McecvPz89lBKn0cAjAobkHAiJrw0NXvIBUAAJhIAjQAACQI0AAAkCBAAwBAggANAAAJAjQAACSMW43dXl8CAADVxqbGbqwCNAAAPG3ewgEAAAkCNAAAJAjQAACQIEADAECCAA0AAAkCNAAAJAjQAACQIEADAECCAA0AAAkCNAAAJAjQAACQ8PxeX8De6q5fXFrrzCyszE3v9aUAI+refaR6W+XdpdtevXS51dk+pNmcOXt+broRnT2zM0BPesg/vd98ut32+1cuX32wb+ZOtX0DbZ67sDg7Une2iQ7Q3fVL0V89gB51b2TuI+3V+eXWowudTmt56drMwmLF37HUzgC9eXL+6f3m0169uNzacbJOp7W81OohFI9wEJvcAF330AigV+33WqX0+Piku37x3t+k5rmF87PTjVK67fVLy2udTmv54rEdZ0jtDNCbJ+ef3m8+3fXt9NycWTh/ZrrRKOXBzqWztrR6rO6f+Ec4Pk/qe6C77VXpGRiE7o1rpZTmj/+shzjbvrLWKdthe/sfNxvTs4sXzjVLKZ21K+2+dwboQU/5p/ebT/f9q51SSplZWJzbTs+P7Vxal9e74bWMcnyewADdba+vXlza/u+lZnOvLwcYcffewHHiWC/5+b1WKaXMnN3x7Lgxe3amlFJa77X73BngCXrOP73ffB7k5zd2PWW+v3Pn6vvVCXo7Ps/MzGS/kSExaQG6fWV57f4/NlxYPHtir68HGG33HkBX/PnY7f5fpYp9p9/YGYpTOwM8Qc/5J3HzacwurqysrFS/S6NxrCak34/PC3Nv9P4tDJdJfA90c2Zh+7Oh/vwA3033RqeUmWON9vrqw8+gN5szZx+8HfDhntdKKaVZ+ay6caxZSqdcu9Et043szgC96CX/DOzmU/Px6ofxebq03+vlyofQpAXo6TMXVhr+4gCDce9ZTWttaffH1Xd+Ar2Xso7OjW4pjezOAE/Sa/4Z1M1n+0F2xfvbHo3PI2zSAnSRnoGB2X5WU0ppzpw7e+be52263faVS8utTmdt6WLZVZZR/W7pxrETpez+s5XaGSCWyz/f8ebTXb98Lz/veifImMTnyXsPNMDg3H9WM7OwOHf/0+ql0ZieW1y49/kZZRnAxHnQr7ErJo9NfJ7AJ9AAAzM9t7IyF2xZmGktt0rr8vqZaY3NwKR4WDM9zvHZE2iAp2P7I+idG2ELKsB4eZiem+cujHN8FqABno7GscqeqGuVgfrhm6n73xlgUPq5+TyWnnd+/GPM4rO3cAA8G9v9T7UeNEeldgYYlH5vPu3V7aHeZWbhwtyukrv7M1day/OtXceWUjprS/NrpZSZhbrZ38PEE2iAp2Fnm+r2E+nqt3RsfxrxRF87AwxKPzefbnt1fvn+lJaV3el5LHkCDdCn9ur8cqvyXysfPm95+Jdm+o2Z0mqV1nvtuekdT1h2j/5K7QwwKOmbT3t1ablVSnAr3NaYXVyZrdpQdxsdap5AA/Rpe65t5+r7O5/V3G9xap47M71z99bl9e6OnS/v/quU2hlgUFI3n+76xSen57EkQAP0a/rMuWYppbO2dHG1ff9vTbe9+qDF6exjf1Ae2X19e/du+/7Hbh7L2tmdAQal95vPI4XPk5Wei7dwAHwHjdnzCzcuLbfuDe9+bFNzZuH8zg/DNGbPL9xYWm6Vztry0trjO+/685PaGWBQer35tK+sbX/cMPpsYBnfR9OeQAN8B43pucULC+dmms0HS83mzLmFC4uVn6RpTM+tXFjYsffChcXKz52ndgYYlJ5uPpPdqLnv7t27e30NAAAwMjyBBgCABAEaAAASBGgAAEgQoAEAIEGABgCABAEaAAAS/n9uhLQkyUF6xwAAAABJRU5ErkJggg==\"></div>"
      ],
      "text/plain": [
       "-Graphics-"
      ]
     },
     "execution_count": 9,
     "metadata": {
      "text/html": [],
      "text/plain": []
     },
     "output_type": "execute_result"
    }
   ],
   "source": [
    "hamiltonianHeisenberg // MatrixPlot"
   ]
  },
  {
   "cell_type": "markdown",
   "metadata": {},
   "source": [
    "### A more interesting example\n",
    "\n",
    "Let us now turn to a more interesting example: we will consider an Hamiltonian having both single site terms as well as nearest neighbors and next-to-nearest neighbors couplings. It reads (we are assuming here open boundary conditions)\n",
    "$$\n",
    "H = h \\, \\sum_{i = 1}^L \\sigma_i^x - \\sum_{i = 1}^{L - 1}J_i \\sigma_i^z \\cdot \\sigma_{i + 1}^z + J_2 \\sum_{i = 1}^{L - 2} \\sigma_i^z \\cdot \\sigma_{i + 2}^z \\equiv H_0 + H_1 + H_2 \\ ,\n",
    "$$"
   ]
  }
 ],
 "metadata": {
  "kernelspec": {
   "display_name": "Wolfram Language 12.1",
   "language": "Wolfram Language",
   "name": "wolframlanguage12.1"
  },
  "language_info": {
   "codemirror_mode": "mathematica",
   "file_extension": ".m",
   "mimetype": "application/vnd.wolfram.m",
   "name": "Wolfram Language",
   "pygments_lexer": "mathematica",
   "version": "12.0"
  }
 },
 "nbformat": 4,
 "nbformat_minor": 4
}
